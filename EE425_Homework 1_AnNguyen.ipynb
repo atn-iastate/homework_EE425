{
 "cells": [
  {
   "cell_type": "code",
   "execution_count": 6,
   "metadata": {},
   "outputs": [],
   "source": [
    "import numpy as np\n",
    "import time"
   ]
  },
  {
   "cell_type": "code",
   "execution_count": 7,
   "metadata": {},
   "outputs": [],
   "source": [
    "# Question 1:"
   ]
  },
  {
   "cell_type": "code",
   "execution_count": 80,
   "metadata": {},
   "outputs": [],
   "source": [
    "def lreg_sim(m, n, verror, true_w):\n",
    "    \n",
    "    if (n != len(true_w)):\n",
    "        raise Exception(\"Length of parameters vector must match the number of variables\")\n",
    "    \n",
    "    # generating data\n",
    "    X = np.random.randn(m, n) # m independent vectors of n variables\n",
    "    error = verror * np.random.randn(m) \n",
    "    y = np.dot(X, true_w) + error # response variable\n",
    "    \n",
    "    # Pseudo-Inverse\n",
    "    start_time = time.perf_counter()\n",
    "    train_w_pi = np.dot(np.linalg.pinv(X), y)\n",
    "    n_error = np.linalg.norm(true_w - train_w_pi) / np.linalg.norm(true_w)\n",
    "    \n",
    "    print(\"--- Pseudo Inverse ---\")\n",
    "    print(\"Normalized error: %.10f\" % n_error)\n",
    "    print(\"Execution time: %.10f\" %(time.perf_counter() - start_time))\n",
    "    print(\" \")\n",
    "    \n",
    "    # Normal Equations\n",
    "    start_time = time.perf_counter()\n",
    "    train_w_norm = np.dot(np.dot(np.linalg.inv(np.dot(np.transpose(X), X)), np.transpose(X)),y)\n",
    "    n_error = np.linalg.norm(true_w - train_w_norm) / np.linalg.norm(true_w)\n",
    "    \n",
    "    print(\"--- Solving Normal Equations ---\")\n",
    "    print(\"Normalized error: %.10f\" % n_error)\n",
    "    print(\"Execution time: %.10f\" %(time.perf_counter() - start_time))\n",
    "    print(\" \")\n",
    "    \n",
    "    # Gradient Descent\n",
    "    start_time = time.perf_counter()\n",
    "    mu = 0.001\n",
    "    max_iter = 1000\n",
    "    train_w_gd = np.zeros_like(true_w)\n",
    "    \n",
    "    for t in range(max_iter):\n",
    "        train_w_gd = train_w_gd - mu * (np.dot(np.dot(np.transpose(X), X), train_w_gd) - np.dot(np.transpose(X), y-error));\n",
    "        \n",
    "    n_error = np.linalg.norm(true_w - train_w_gd) / np.linalg.norm(true_w)\n",
    "    \n",
    "    print(\"--- Gradient Descent ---\")\n",
    "    print(\"Normalized error: %.10f\" % n_error)\n",
    "    print(\"Execution time: %.10f\" %(time.perf_counter() - start_time))\n",
    "    print(\" \")"
   ]
  },
  {
   "cell_type": "code",
   "execution_count": 81,
   "metadata": {},
   "outputs": [
    {
     "name": "stdout",
     "output_type": "stream",
     "text": [
      "--- Pseudo Inverse ---\n",
      "Normalized error: 0.0000000000\n",
      "Execution time: 0.0004345000\n",
      " \n",
      "--- Solving Normal Equations ---\n",
      "Normalized error: 0.0000000000\n",
      "Execution time: 0.0004782000\n",
      " \n",
      "--- Gradient Descent ---\n",
      "Normalized error: 0.0000009399\n",
      "Execution time: 0.0086158000\n",
      " \n"
     ]
    }
   ],
   "source": [
    "# a) m = 30, n = 5, var_error = 0, true_w = [1,4,2,10,23]\n",
    "lreg_sim(30, 5, 0, [1,4,2,10,23])"
   ]
  },
  {
   "cell_type": "code",
   "execution_count": 82,
   "metadata": {},
   "outputs": [
    {
     "name": "stdout",
     "output_type": "stream",
     "text": [
      "--- Pseudo Inverse ---\n",
      "Normalized error: 0.0000000180\n",
      "Execution time: 0.0003858000\n",
      " \n",
      "--- Solving Normal Equations ---\n",
      "Normalized error: 0.0000000180\n",
      "Execution time: 0.0003699000\n",
      " \n",
      "--- Gradient Descent ---\n",
      "Normalized error: 0.0000265457\n",
      "Execution time: 0.0075417000\n",
      " \n"
     ]
    }
   ],
   "source": [
    "# b) m = 30, n = 5, var_error = e^-6, true_w = [1,4,2,10,23]\n",
    "lreg_sim(30, 5, 1e-6, [1,4,2,10,23])"
   ]
  },
  {
   "cell_type": "code",
   "execution_count": 83,
   "metadata": {},
   "outputs": [
    {
     "name": "stdout",
     "output_type": "stream",
     "text": [
      "--- Pseudo Inverse ---\n",
      "Normalized error: 0.0000000082\n",
      "Execution time: 0.0008050000\n",
      " \n",
      "--- Solving Normal Equations ---\n",
      "Normalized error: 0.0000000082\n",
      "Execution time: 0.0003831000\n",
      " \n",
      "--- Gradient Descent ---\n",
      "Normalized error: 0.0000000000\n",
      "Execution time: 0.0092856000\n",
      " \n"
     ]
    }
   ],
   "source": [
    "# c) m = 100, n = 5, var_error = e^-6, true_w = [1,4,2,10,23]\n",
    "lreg_sim(100, 5, 1e-6, [1,4,2,10,23])"
   ]
  },
  {
   "cell_type": "code",
   "execution_count": 84,
   "metadata": {},
   "outputs": [
    {
     "name": "stdout",
     "output_type": "stream",
     "text": [
      "--- Pseudo Inverse ---\n",
      "Normalized error: 0.0000000036\n",
      "Execution time: 0.0006281000\n",
      " \n",
      "--- Solving Normal Equations ---\n",
      "Normalized error: 0.0000000036\n",
      "Execution time: 0.0002713000\n",
      " \n",
      "--- Gradient Descent ---\n",
      "Normalized error: 0.0000000000\n",
      "Execution time: 0.0283829000\n",
      " \n"
     ]
    }
   ],
   "source": [
    "# d) m = 1000, n = 5, var_error = e^-6, true_w = [1,4,2,10,23]\n",
    "lreg_sim(1000, 5, 1e-6, [1,4,2,10,23])"
   ]
  },
  {
   "cell_type": "code",
   "execution_count": 85,
   "metadata": {},
   "outputs": [
    {
     "name": "stdout",
     "output_type": "stream",
     "text": [
      "--- Pseudo Inverse ---\n",
      "Normalized error: 0.0000008777\n",
      "Execution time: 0.0007179000\n",
      " \n",
      "--- Solving Normal Equations ---\n",
      "Normalized error: 0.0000008777\n",
      "Execution time: 0.0003558000\n",
      " \n",
      "--- Gradient Descent ---\n",
      "Normalized error: 0.0000000000\n",
      "Execution time: 0.0078567000\n",
      " \n"
     ]
    }
   ],
   "source": [
    "# e) m = 1000, n = 5, var_error = e^-4, true_w = [1,4,2,10,23]\n",
    "lreg_sim(100, 5, 1e-4, [1,4,2,10,23])"
   ]
  },
  {
   "cell_type": "code",
   "execution_count": null,
   "metadata": {},
   "outputs": [],
   "source": [
    "# Question 2:\n"
   ]
  },
  {
   "cell_type": "code",
   "execution_count": null,
   "metadata": {},
   "outputs": [],
   "source": []
  }
 ],
 "metadata": {
  "kernelspec": {
   "display_name": "Python 3",
   "language": "python",
   "name": "python3"
  },
  "language_info": {
   "codemirror_mode": {
    "name": "ipython",
    "version": 3
   },
   "file_extension": ".py",
   "mimetype": "text/x-python",
   "name": "python",
   "nbconvert_exporter": "python",
   "pygments_lexer": "ipython3",
   "version": "3.7.4"
  }
 },
 "nbformat": 4,
 "nbformat_minor": 2
}
